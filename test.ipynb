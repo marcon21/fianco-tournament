{
 "cells": [
  {
   "cell_type": "code",
   "execution_count": 34,
   "metadata": {},
   "outputs": [],
   "source": [
    "import numpy as np\n",
    "\n",
    "# Example 9x9 matrix\n",
    "matrix = np.array(\n",
    "    [\n",
    "        [0, 3, 1, 0, 0, 0, 0, 0, 0],\n",
    "        [0, 1, 0, 0, 1, 0, 0, 0, 0],\n",
    "        [0, 0, 0, 0, 0, 0, 0, 0, 0],\n",
    "        [1, 0, 0, 0, 0, 0, 0, 0, 0],\n",
    "        [0, 0, 0, 0, 0, 0, 2, 0, 0],\n",
    "        [0, 0, 0, 0, 0, 0, 0, 0, 0],\n",
    "        [0, 0, 1, 0, 0, 0, 0, 2, 0],\n",
    "        [0, 0, 0, 0, 0, 2, 0, 0, 0],\n",
    "        [0, 0, 0, 2, 0, 0, 0, 0, 0],\n",
    "    ]\n",
    ")"
   ]
  },
  {
   "cell_type": "code",
   "execution_count": 26,
   "metadata": {},
   "outputs": [
    {
     "name": "stdout",
     "output_type": "stream",
     "text": [
      "[8 8 6 3]\n",
      "[5 3 2 1]\n",
      "Average position of 1s: 6.25\n",
      "Average position of 2s: 2.75\n"
     ]
    }
   ],
   "source": [
    "ones, _ = np.where(matrix == 1)\n",
    "twos, _ = np.where(matrix == 2)\n",
    "ones = 9 - ones\n",
    "# twos = 9 - twos\n",
    "avg_ones = np.mean(ones)\n",
    "avg_twos = np.mean(twos)\n",
    "\n",
    "\n",
    "print(ones)\n",
    "print(twos)\n",
    "\n",
    "print(f\"Average position of 1s: {avg_ones}\")\n",
    "print(f\"Average position of 2s: {avg_twos}\")"
   ]
  },
  {
   "cell_type": "code",
   "execution_count": 31,
   "metadata": {},
   "outputs": [
    {
     "data": {
      "text/plain": [
       "array([9])"
      ]
     },
     "execution_count": 31,
     "metadata": {},
     "output_type": "execute_result"
    }
   ],
   "source": [
    "ones, _ = np.where(matrix == 3)\n",
    "9-ones"
   ]
  },
  {
   "cell_type": "code",
   "execution_count": 35,
   "metadata": {},
   "outputs": [
    {
     "data": {
      "text/plain": [
       "True"
      ]
     },
     "execution_count": 35,
     "metadata": {},
     "output_type": "execute_result"
    }
   ],
   "source": [
    "1 in matrix[0, :]"
   ]
  },
  {
   "cell_type": "code",
   "execution_count": null,
   "metadata": {},
   "outputs": [],
   "source": []
  }
 ],
 "metadata": {
  "kernelspec": {
   "display_name": "ars",
   "language": "python",
   "name": "python3"
  },
  "language_info": {
   "codemirror_mode": {
    "name": "ipython",
    "version": 3
   },
   "file_extension": ".py",
   "mimetype": "text/x-python",
   "name": "python",
   "nbconvert_exporter": "python",
   "pygments_lexer": "ipython3",
   "version": "3.11.9"
  }
 },
 "nbformat": 4,
 "nbformat_minor": 2
}
